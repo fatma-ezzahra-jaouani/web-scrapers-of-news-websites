{
  "nbformat": 4,
  "nbformat_minor": 0,
  "metadata": {
    "colab": {
      "name": "asslematunisie_scraper.ipynb",
      "provenance": [],
      "collapsed_sections": []
    },
    "kernelspec": {
      "name": "python3",
      "display_name": "Python 3"
    }
  },
  "cells": [
    {
      "cell_type": "markdown",
      "metadata": {
        "id": "_PdTJyv979pw",
        "colab_type": "text"
      },
      "source": [
        "# **This notebook concerns the scraping of the website \"asslematunisie.net\"**\n"
      ]
    },
    {
      "cell_type": "code",
      "metadata": {
        "id": "-oU1vUcWAAaT",
        "colab_type": "code",
        "colab": {}
      },
      "source": [
        "#importing libraries\n",
        "from bs4 import BeautifulSoup as bs\n",
        "import requests as rq\n",
        "import pandas as pd"
      ],
      "execution_count": 0,
      "outputs": []
    },
    {
      "cell_type": "code",
      "metadata": {
        "id": "ilgNZ8h5mzPY",
        "colab_type": "code",
        "colab": {}
      },
      "source": [
        "#opening the home page\n",
        "base_site='https://www.asslematunisie.net/'\n",
        "reponse_base=rq.get(base_site)\n",
        "soup_base=bs(reponse_base.content, 'html.parser')"
      ],
      "execution_count": 0,
      "outputs": []
    },
    {
      "cell_type": "code",
      "metadata": {
        "id": "vi24oknxqPkp",
        "colab_type": "code",
        "outputId": "96a9425f-b96e-4f30-a8d7-32893a1ab438",
        "colab": {
          "base_uri": "https://localhost:8080/",
          "height": 663
        }
      },
      "source": [
        "if (reponse_base.status_code != 200):\n",
        "  print('\\nthis page cannot be opened')\n",
        "else:\n",
        "  print('\\nthe page was opened successfully')\n",
        "  #extracting links of category pages from home page (the number of categories may change in this website according to local news)\n",
        "  url=[]\n",
        "  for i in soup_base.find_all('a', itemprop=\"url\"):\n",
        "    url.append(i.get('href'))\n",
        "  L_articles=[]\n",
        "  all_links=[]\n",
        "  link=[]\n",
        "  L_titles=[]\n",
        "  L_categories=[]\n",
        "  print('\\nscraping in progress..')\n",
        "  for page in url:\n",
        "    category=str(page)\n",
        "    response= rq.get(category)\n",
        "    soup=bs(response.content, 'html.parser')\n",
        "    print('\\nscraping in progress.....')\n",
        "    link=[]\n",
        "    for i in soup.find_all('a', class_='read-more'):\n",
        "      link.append(i.get('href')) #saving a list of links to the articles contained in this category \n",
        "      all_links.append(i.get('href')) #saving all the links for the dataset\n",
        "    for i in link:\n",
        "      site=str(i)\n",
        "      response_i= rq.get(site)\n",
        "      html=response_i.content\n",
        "      soup_i=bs(html, 'html.parser')\n",
        "      title=soup_i.find('h1', class_=\"post-title entry-title\").text\n",
        "      title=title.replace('\\n','')\n",
        "      cat=soup_i.find('a', rel='tag').text\n",
        "      ch=soup_i.article.text\n",
        "      ch=ch.replace('\\n','').replace('\\xa0','')\n",
        "      L_articles.append(ch)\n",
        "      L_titles.append(title)\n",
        "      L_categories.append(cat)\n",
        "  print('\\nscraping is done')\n",
        "  print('\\nyou have extracted ',str(len(L_articles)),'articles')"
      ],
      "execution_count": 3,
      "outputs": [
        {
          "output_type": "stream",
          "text": [
            "\n",
            "the page was opened successfully\n",
            "\n",
            "scraping in progress..\n",
            "\n",
            "scraping in progress.....\n",
            "\n",
            "scraping in progress.....\n",
            "\n",
            "scraping in progress.....\n",
            "\n",
            "scraping in progress.....\n",
            "\n",
            "scraping in progress.....\n",
            "\n",
            "scraping in progress.....\n",
            "\n",
            "scraping in progress.....\n",
            "\n",
            "scraping in progress.....\n",
            "\n",
            "scraping in progress.....\n",
            "\n",
            "scraping in progress.....\n",
            "\n",
            "scraping in progress.....\n",
            "\n",
            "scraping in progress.....\n",
            "\n",
            "scraping in progress.....\n",
            "\n",
            "scraping in progress.....\n",
            "\n",
            "scraping in progress.....\n",
            "\n",
            "scraping is done\n",
            "\n",
            "you have extracted  148 articles\n"
          ],
          "name": "stdout"
        }
      ]
    },
    {
      "cell_type": "code",
      "metadata": {
        "id": "w4Ojcxk9S7I2",
        "colab_type": "code",
        "colab": {}
      },
      "source": [
        "#creation of the dataframe\n",
        "d = {'link': all_links,'titles' : L_titles ,'article': L_articles, 'type':L_categories}\n",
        "df = pd.DataFrame(data=d)\n"
      ],
      "execution_count": 0,
      "outputs": []
    },
    {
      "cell_type": "code",
      "metadata": {
        "id": "lYufgJi26LGc",
        "colab_type": "code",
        "colab": {}
      },
      "source": [
        "#saving the dataframe (used the encoding utf-16 for arabic carachters)\n",
        "df.to_csv('asslematunisie.csv', index=False,encoding='UTF-16')"
      ],
      "execution_count": 0,
      "outputs": []
    },
    {
      "cell_type": "code",
      "metadata": {
        "id": "70_hAYugk2o0",
        "colab_type": "code",
        "outputId": "1cb3b269-3323-4648-8d54-eeee2dfa50c5",
        "colab": {
          "base_uri": "https://localhost:8080/",
          "height": 204
        }
      },
      "source": [
        "df.head()"
      ],
      "execution_count": 10,
      "outputs": [
        {
          "output_type": "execute_result",
          "data": {
            "text/html": [
              "<div>\n",
              "<style scoped>\n",
              "    .dataframe tbody tr th:only-of-type {\n",
              "        vertical-align: middle;\n",
              "    }\n",
              "\n",
              "    .dataframe tbody tr th {\n",
              "        vertical-align: top;\n",
              "    }\n",
              "\n",
              "    .dataframe thead th {\n",
              "        text-align: right;\n",
              "    }\n",
              "</style>\n",
              "<table border=\"1\" class=\"dataframe\">\n",
              "  <thead>\n",
              "    <tr style=\"text-align: right;\">\n",
              "      <th></th>\n",
              "      <th>link</th>\n",
              "      <th>titles</th>\n",
              "      <th>article</th>\n",
              "      <th>type</th>\n",
              "    </tr>\n",
              "  </thead>\n",
              "  <tbody>\n",
              "    <tr>\n",
              "      <th>0</th>\n",
              "      <td>https://www.asslematunisie.net/2020/05/coronat...</td>\n",
              "      <td>عاجل / تسجيل 5 إصابات جديدة بكورونا وإرتفاع ال...</td>\n",
              "      <td>تعلم وزارة الصحة أنه بتاريخ 03 ماي 2020، تم إج...</td>\n",
              "      <td>عاجل</td>\n",
              "    </tr>\n",
              "    <tr>\n",
              "      <th>1</th>\n",
              "      <td>https://www.asslematunisie.net/2020/05/emnatun...</td>\n",
              "      <td>عاجل : الفتاة التونسية التي حرفت القرأن الكريم...</td>\n",
              "      <td>نشر منذ قليل \"البابارزي\" على صفحته الرسمية خبر...</td>\n",
              "      <td>عاجل</td>\n",
              "    </tr>\n",
              "    <tr>\n",
              "      <th>2</th>\n",
              "      <td>https://www.asslematunisie.net/2020/05/4corona...</td>\n",
              "      <td>عاجل / تسجيل 4 إصابات جديدة بفيروس كورونا وإرت...</td>\n",
              "      <td>تعلم وزارة الصحة أنه بتاريخ 02 ماي 2020، تم إج...</td>\n",
              "      <td>عاجل</td>\n",
              "    </tr>\n",
              "    <tr>\n",
              "      <th>3</th>\n",
              "      <td>https://www.asslematunisie.net/2020/05/slimchi...</td>\n",
              "      <td>عاجل : نقل سليم شيبوب إلى المستشفى العسكري</td>\n",
              "      <td>أكدت الأستاذة إيمان الحلواني محامية سليم شيبوب...</td>\n",
              "      <td>عاجل</td>\n",
              "    </tr>\n",
              "    <tr>\n",
              "      <th>4</th>\n",
              "      <td>https://www.asslematunisie.net/2020/05/11-1009...</td>\n",
              "      <td>عاجل / تسجيل 11 إصابة جديدة بفيروس كورونا وإرت...</td>\n",
              "      <td>تعلم وزارة الصحة أنه بتاريخ 01 ماي 2020، تم إج...</td>\n",
              "      <td>عاجل</td>\n",
              "    </tr>\n",
              "  </tbody>\n",
              "</table>\n",
              "</div>"
            ],
            "text/plain": [
              "                                                link  ...  type\n",
              "0  https://www.asslematunisie.net/2020/05/coronat...  ...  عاجل\n",
              "1  https://www.asslematunisie.net/2020/05/emnatun...  ...  عاجل\n",
              "2  https://www.asslematunisie.net/2020/05/4corona...  ...  عاجل\n",
              "3  https://www.asslematunisie.net/2020/05/slimchi...  ...  عاجل\n",
              "4  https://www.asslematunisie.net/2020/05/11-1009...  ...  عاجل\n",
              "\n",
              "[5 rows x 4 columns]"
            ]
          },
          "metadata": {
            "tags": []
          },
          "execution_count": 10
        }
      ]
    },
    {
      "cell_type": "code",
      "metadata": {
        "id": "-7cdpDe4D7ty",
        "colab_type": "code",
        "colab": {}
      },
      "source": [
        ""
      ],
      "execution_count": 0,
      "outputs": []
    }
  ]
}